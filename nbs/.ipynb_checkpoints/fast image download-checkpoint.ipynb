{
 "cells": [
  {
   "cell_type": "code",
   "execution_count": 1,
   "metadata": {},
   "outputs": [],
   "source": [
    "from joblib import Parallel, delayed\n",
    "import os\n",
    "import urllib.request\n",
    "import pandas as pd\n",
    "from tqdm import tqdm"
   ]
  },
  {
   "cell_type": "code",
   "execution_count": 2,
   "metadata": {},
   "outputs": [],
   "source": [
    "def downloader(in_row):\n",
    "    fn, url=in_row[0],in_row[1]\n",
    "    if os.path.exists(out_path+fn) :\n",
    "        return\n",
    "    try:\n",
    "        urllib.request.urlretrieve(url, out_path + fn)\n",
    "    except Exception as e:\n",
    "        if print_fail:\n",
    "            print(\"##\"+fn+\",download_fail##\")\n",
    "        return"
   ]
  },
  {
   "cell_type": "code",
   "execution_count": 3,
   "metadata": {},
   "outputs": [],
   "source": [
    "url='https://image.rakuten.co.jp/atmys/cabinet/img82181314.jpg'\n",
    "out_path='../data/images/'\n",
    "in_pth='../data/val.csv'\n",
    "print_fail=False\n",
    "num_cores = 20"
   ]
  },
  {
   "cell_type": "code",
   "execution_count": 4,
   "metadata": {},
   "outputs": [],
   "source": [
    "df=pd.read_csv(in_pth)[0:100]"
   ]
  },
  {
   "cell_type": "code",
   "execution_count": 5,
   "metadata": {},
   "outputs": [
    {
     "data": {
      "text/html": [
       "<div>\n",
       "<style scoped>\n",
       "    .dataframe tbody tr th:only-of-type {\n",
       "        vertical-align: middle;\n",
       "    }\n",
       "\n",
       "    .dataframe tbody tr th {\n",
       "        vertical-align: top;\n",
       "    }\n",
       "\n",
       "    .dataframe thead th {\n",
       "        text-align: right;\n",
       "    }\n",
       "</style>\n",
       "<table border=\"1\" class=\"dataframe\">\n",
       "  <thead>\n",
       "    <tr style=\"text-align: right;\">\n",
       "      <th></th>\n",
       "      <th>fn</th>\n",
       "      <th>url</th>\n",
       "      <th>cls</th>\n",
       "    </tr>\n",
       "  </thead>\n",
       "  <tbody>\n",
       "    <tr>\n",
       "      <td>0</td>\n",
       "      <td>2f1ecc4d142b7243221d83bc5d0e78a5.jpg</td>\n",
       "      <td>http://pic101.huitu.com/res/20171106/386439_20...</td>\n",
       "      <td>0</td>\n",
       "    </tr>\n",
       "    <tr>\n",
       "      <td>1</td>\n",
       "      <td>5a225953a4e06097a6d2e389f13afac2.jpg</td>\n",
       "      <td>http://image.99114.com/2014/1/02/510fb1f357414...</td>\n",
       "      <td>0</td>\n",
       "    </tr>\n",
       "    <tr>\n",
       "      <td>2</td>\n",
       "      <td>74b8293614d8d51d3b7262a1830c127c.jpg</td>\n",
       "      <td>http://www.cy365.com/postsystem/docroot/images...</td>\n",
       "      <td>0</td>\n",
       "    </tr>\n",
       "    <tr>\n",
       "      <td>3</td>\n",
       "      <td>693d2019b92228cdd244dbba5bcc677a.jpg</td>\n",
       "      <td>http://img.mp.sohu.com/upload/20170613/6cf6306...</td>\n",
       "      <td>0</td>\n",
       "    </tr>\n",
       "    <tr>\n",
       "      <td>4</td>\n",
       "      <td>33a2293beeac4419706d4dd06179ab0e.jpg</td>\n",
       "      <td>http://image09.71.net/image09/79/16/50/78/f33f...</td>\n",
       "      <td>0</td>\n",
       "    </tr>\n",
       "  </tbody>\n",
       "</table>\n",
       "</div>"
      ],
      "text/plain": [
       "                                     fn  \\\n",
       "0  2f1ecc4d142b7243221d83bc5d0e78a5.jpg   \n",
       "1  5a225953a4e06097a6d2e389f13afac2.jpg   \n",
       "2  74b8293614d8d51d3b7262a1830c127c.jpg   \n",
       "3  693d2019b92228cdd244dbba5bcc677a.jpg   \n",
       "4  33a2293beeac4419706d4dd06179ab0e.jpg   \n",
       "\n",
       "                                                 url  cls  \n",
       "0  http://pic101.huitu.com/res/20171106/386439_20...    0  \n",
       "1  http://image.99114.com/2014/1/02/510fb1f357414...    0  \n",
       "2  http://www.cy365.com/postsystem/docroot/images...    0  \n",
       "3  http://img.mp.sohu.com/upload/20170613/6cf6306...    0  \n",
       "4  http://image09.71.net/image09/79/16/50/78/f33f...    0  "
      ]
     },
     "execution_count": 5,
     "metadata": {},
     "output_type": "execute_result"
    }
   ],
   "source": [
    "df.head()"
   ]
  },
  {
   "cell_type": "code",
   "execution_count": 6,
   "metadata": {},
   "outputs": [],
   "source": [
    "input_par=[]\n",
    "for i in range(df.shape[0]):\n",
    "    input_par.append([df['fn'][i],df['url'][i]])"
   ]
  },
  {
   "cell_type": "code",
   "execution_count": 7,
   "metadata": {},
   "outputs": [
    {
     "name": "stderr",
     "output_type": "stream",
     "text": [
      "100%|██████████| 100/100 [00:01<00:00, 76.95it/s]\n"
     ]
    }
   ],
   "source": [
    "Parallel(n_jobs=num_cores)(delayed(downloader)(i) for i in tqdm(input_par));"
   ]
  },
  {
   "cell_type": "code",
   "execution_count": 11,
   "metadata": {},
   "outputs": [
    {
     "name": "stdout",
     "output_type": "stream",
     "text": [
      "100\r\n"
     ]
    }
   ],
   "source": [
    "#the number of files downloaded, re-run the above cell in case to give another try for failed case\n",
    "!ls {out_path} -1|wc -l"
   ]
  },
  {
   "cell_type": "code",
   "execution_count": null,
   "metadata": {},
   "outputs": [],
   "source": []
  }
 ],
 "metadata": {
  "kernelspec": {
   "display_name": "Python 3",
   "language": "python",
   "name": "python3"
  },
  "language_info": {
   "codemirror_mode": {
    "name": "ipython",
    "version": 3
   },
   "file_extension": ".py",
   "mimetype": "text/x-python",
   "name": "python",
   "nbconvert_exporter": "python",
   "pygments_lexer": "ipython3",
   "version": "3.7.4"
  }
 },
 "nbformat": 4,
 "nbformat_minor": 2
}
